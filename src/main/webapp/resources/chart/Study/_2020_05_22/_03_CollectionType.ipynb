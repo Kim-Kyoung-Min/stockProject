{
 "cells": [
  {
   "cell_type": "markdown",
   "metadata": {},
   "source": [
    "# 파이썬의 컬렉션 타입\n",
    "## 리스트\n",
    "   [], 순서가 있고 중복가능\n",
    "## 튜플\n",
    "   (), 읽기전용 리스트\n",
    "## 셋\n",
    "   {}, 집합, 중복불가능\n",
    "## 딕셔너리\n",
    "   {key:value}, 맵, 해시"
   ]
  },
  {
   "cell_type": "code",
   "execution_count": 3,
   "metadata": {},
   "outputs": [
    {
     "name": "stdout",
     "output_type": "stream",
     "text": [
      "['홍길동', '임꺽정', '장길산', '일지매', '홍길동'] <class 'list'>\n",
      "[1, 2, 3, 4, 5, 6, 7, 1] <class 'list'>\n"
     ]
    }
   ],
   "source": [
    "names = ['홍길동', '임꺽정', '장길산', '일지매', '홍길동']\n",
    "nums = [1, 2, 3, 4, 5, 6, 7, 1]\n",
    "print(names, type(names))\n",
    "print(nums, type(nums))"
   ]
  },
  {
   "cell_type": "code",
   "execution_count": null,
   "metadata": {},
   "outputs": [],
   "source": [
    "names = ('홍길동', '임꺽정', '장길산', '일지매', '홍길동')\n",
    "nums = (1, 2, 3, 4, 5, 6, 7, 1)\n",
    "print(names, type(names))\n",
    "print(nums, type(nums))"
   ]
  }
 ],
 "metadata": {
  "kernelspec": {
   "display_name": "Python 3",
   "language": "python",
   "name": "python3"
  },
  "language_info": {
   "codemirror_mode": {
    "name": "ipython",
    "version": 3
   },
   "file_extension": ".py",
   "mimetype": "text/x-python",
   "name": "python",
   "nbconvert_exporter": "python",
   "pygments_lexer": "ipython3",
   "version": "3.7.6"
  }
 },
 "nbformat": 4,
 "nbformat_minor": 4
}
